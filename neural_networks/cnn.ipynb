{
  "nbformat": 4,
  "nbformat_minor": 0,
  "metadata": {
    "colab": {
      "provenance": []
    },
    "kernelspec": {
      "name": "python3",
      "display_name": "Python 3"
    },
    "language_info": {
      "name": "python"
    }
  },
  "cells": [
    {
      "cell_type": "markdown",
      "source": [
        "#  Complete CNN Forward Pass Notes\n",
        "\n",
        "##  What is CNN?\n",
        "A **Convolutional Neural Network (CNN)**:\n",
        "- Automatically **learns features from images** using:\n",
        "  - Convolution\n",
        "  - Activation\n",
        "  - Pooling\n",
        "  - Flattening\n",
        "  - Dense layers\n",
        "\n",
        "---\n",
        "\n",
        "## 1. Input\n",
        "- Grayscale image of size:\n",
        "$$\n",
        "N \\times N\n",
        "$$\n",
        "- Example:\n",
        "$$\n",
        "\\begin{bmatrix}\n",
        "1 & 2 & 3 \\\\\n",
        "4 & 5 & 6 \\\\\n",
        "7 & 8 & 9\n",
        "\\end{bmatrix}\n",
        "$$\n",
        "---\n",
        "\n",
        "## 2. Convolution\n",
        "\n",
        "###  Process:\n",
        "- Use a **filter (kernel)** of size:\n",
        "$$\n",
        "F \\times F\n",
        "$$\n",
        "- Slide it over the image with **stride `S` (typically 1)**.\n",
        "- For each position:\n",
        "  - Take **element-wise multiplication**:\n",
        "$$\n",
        "\\text{Region} \\times \\text{Kernel}\n",
        "$$\n",
        "  - Sum all products to get a scalar for that position in the **feature map**.\n",
        "\n",
        "###  Output Size:\n",
        "$$\n",
        "O = \\left\\lfloor \\frac{N - F}{S} \\right\\rfloor + 1\n",
        "$$\n",
        "\n",
        "###  Example Calculation:\n",
        "For a `3x3` image, `2x2` filter, stride `1`:\n",
        "$$\n",
        "O = \\left\\lfloor \\frac{3 - 2}{1} \\right\\rfloor + 1 = 2\n",
        "$$\n",
        "Feature map will be:\n",
        "$$\n",
        "2 \\times 2\n",
        "$$\n",
        "\n",
        "---\n",
        "\n",
        "##  Activation (ReLU)\n",
        "\n",
        "Apply:\n",
        "$$\n",
        "\\text{ReLU}(x) = \\max(0, x)\n",
        "$$\n",
        "to each element of the feature map to:\n",
        "*  Introduce **non-linearity**  \n",
        "*  Zero out negative activations\n",
        "\n",
        "---\n",
        "\n",
        "##  Max Pooling\n",
        "\n",
        "###  Purpose:\n",
        "- Downsamples while retaining **important features**.\n",
        "- Uses a pool size:\n",
        "\n",
        "$P \\times P$\n",
        "\n",
        "with stride `S`:\n",
        "- `S = P` for **non-overlapping pooling**.\n",
        "- `S = 1` for **overlapping pooling**.\n",
        "\n",
        "###  Operation:\n",
        "- For each $P \\times P$ block, take:\n",
        "$$\n",
        "\\max \\left( \\text{block values} \\right)\n",
        "$$\n",
        "\n",
        "###  Output Size:\n",
        "$$\n",
        "O = \\left\\lfloor \\frac{N - P}{S} \\right\\rfloor + 1\n",
        "$$\n",
        "\n",
        "---\n",
        "\n",
        "##  Flattening\n",
        "\n",
        "- Converts a $d \\times d$ pooled feature map to:\n",
        "$$\n",
        "\\mathbb{R}^{d^2}\n",
        "$$\n",
        "- Example:\n",
        "$$\n",
        "\\begin{bmatrix}\n",
        "5 & 6 \\\\\n",
        "8 & 9\n",
        "\\end{bmatrix}\n",
        "\\rightarrow\n",
        "[5, 6, 8, 9]\n",
        "$$\n",
        "- Prepares for Dense layers.\n",
        "\n",
        "---\n",
        "\n",
        "## Dense Layer (Fully Connected)\n",
        "\n",
        "Maps the **flattened vector to output classes**:\n",
        "- Uses:\n",
        "$$\n",
        "y = W x + b\n",
        "$$\n",
        "where:\n",
        "- $ x $: flattened input\n",
        "- $ W $: weight matrix\n",
        "- $ b $: bias vector\n",
        "\n",
        "### Follow with **activation**:\n",
        "- `ReLU` for hidden layers.\n",
        "- `Softmax` for multi-class output:\n",
        "$$\n",
        "\\text{Softmax}(z_i) = \\frac{e^{z_i}}{\\sum_j e^{z_j}}\n",
        "$$\n",
        "- `Sigmoid` for binary output:\n",
        "$$\n",
        "\\sigma(x) = \\frac{1}{1 + e^{-x}}\n",
        "$$\n",
        "\n",
        "---\n",
        "\n",
        "##  Summary Flow:\n",
        "\n",
        "Input Image\n",
        "↓\n",
        "Convolution (Feature Extraction)\n",
        "↓\n",
        "ReLU (Non-Linearity)\n",
        "↓\n",
        "Max Pooling (Downsampling)\n",
        "↓\n",
        "Flatten (1D Vector)\n",
        "↓\n",
        "Dense Layers (Classification)\n",
        "\n",
        "\n",
        "##  Key Points:\n",
        " **Convolution:** Local pattern detection.  \n",
        " **ReLU:** Adds non-linearity.  \n",
        " **Pooling:** Reduces spatial dimensions.  \n",
        " **Flatten:** Converts to 1D for Dense layers.  \n",
        " **Dense:** Maps features to outputs.\n"
      ],
      "metadata": {
        "id": "sPcUAExDuGMF"
      }
    },
    {
      "cell_type": "code",
      "execution_count": null,
      "metadata": {
        "colab": {
          "base_uri": "https://localhost:8080/"
        },
        "id": "cA9OiXLVYUAR",
        "outputId": "a534dd9e-83ec-4b58-a100-d42814ec6ead"
      },
      "outputs": [
        {
          "output_type": "stream",
          "name": "stdout",
          "text": [
            " Original Image:\n",
            " [[1 2 0 2 1]\n",
            " [0 1 3 1 0]\n",
            " [2 2 1 0 1]\n",
            " [1 0 1 3 2]\n",
            " [0 1 2 2 1]]\n"
          ]
        }
      ],
      "source": [
        "import numpy as np\n",
        "\n",
        "image = np.array([\n",
        "    [1, 2, 0, 2, 1],\n",
        "    [0, 1, 3, 1, 0],\n",
        "    [2, 2, 1, 0, 1],\n",
        "    [1, 0, 1, 3, 2],\n",
        "    [0, 1, 2, 2, 1]\n",
        "])\n",
        "\n",
        "\n",
        "print(\" Original Image:\\n\", image)\n",
        "\n",
        "# Define a kernel (filter) for edge detection (simple vertical filter)\n",
        "kernel = np.array([\n",
        "    [-1, 0, 1],\n",
        "    [-1, 0, 1],\n",
        "    [-1, 0, 1]\n",
        "])\n"
      ]
    },
    {
      "cell_type": "code",
      "source": [
        "output_shape = (image.shape[0]-kernel.shape[0]+1,image.shape[1]-kernel.shape[1]+1)\n",
        "feature_map = np.zeros(output_shape)\n",
        "\n",
        "print(output_shape,feature_map)"
      ],
      "metadata": {
        "colab": {
          "base_uri": "https://localhost:8080/"
        },
        "id": "Y0YPmRqkYvRT",
        "outputId": "abe542a8-1166-4fc1-b877-b7b6755c6181"
      },
      "execution_count": null,
      "outputs": [
        {
          "output_type": "stream",
          "name": "stdout",
          "text": [
            "(3, 3) [[0. 0. 0.]\n",
            " [0. 0. 0.]\n",
            " [0. 0. 0.]]\n"
          ]
        }
      ]
    },
    {
      "cell_type": "code",
      "source": [
        "for i in range(output_shape[0]):\n",
        "  for j in range(output_shape[1]):\n",
        "    region = image[i:i+kernel.shape[0],j:j+kernel.shape[1]]\n",
        "    feature_map[i,j]=np.sum(region*kernel)\n",
        "print(feature_map)"
      ],
      "metadata": {
        "colab": {
          "base_uri": "https://localhost:8080/"
        },
        "id": "KrJVfiCfZWUE",
        "outputId": "0b962825-c55d-403c-c7ce-51e4e5432a5d"
      },
      "execution_count": null,
      "outputs": [
        {
          "output_type": "stream",
          "name": "stdout",
          "text": [
            "[[ 1. -2. -2.]\n",
            " [ 2.  1. -2.]\n",
            " [ 1.  2.  0.]]\n"
          ]
        }
      ]
    },
    {
      "cell_type": "code",
      "source": [
        "feature_map_relu = np.maximum(0,feature_map)\n",
        "print(feature_map_relu)"
      ],
      "metadata": {
        "colab": {
          "base_uri": "https://localhost:8080/"
        },
        "id": "friW-q9kok_p",
        "outputId": "9eecbae9-d05f-44f4-8b79-3bba6aafd69a"
      },
      "execution_count": null,
      "outputs": [
        {
          "output_type": "stream",
          "name": "stdout",
          "text": [
            "[[1. 0. 0.]\n",
            " [2. 1. 0.]\n",
            " [1. 2. 0.]]\n"
          ]
        }
      ]
    },
    {
      "cell_type": "code",
      "source": [
        "# Pooling parameters\n",
        "filter_size = 2\n",
        "stride = 1\n",
        "\n",
        "# Calculate output shape for stride = 1\n",
        "pooled_shape = (\n",
        "    (feature_map_relu.shape[0] - filter_size) // stride + 1,\n",
        "    (feature_map_relu.shape[1] - filter_size) // stride + 1\n",
        ")\n",
        "\n",
        "pooled = np.zeros(pooled_shape)"
      ],
      "metadata": {
        "id": "jQN0qBi0pYSf"
      },
      "execution_count": null,
      "outputs": []
    },
    {
      "cell_type": "code",
      "source": [
        "for i in range(pooled_shape[0]):\n",
        "    for j in range(pooled_shape[1]):\n",
        "        region = feature_map_relu[i:i+filter_size, j:j+filter_size]\n",
        "        pooled[i, j] = np.max(region)\n",
        "\n",
        "print(\"\\n After Max Pooling with stride=1:\\n\", pooled)"
      ],
      "metadata": {
        "colab": {
          "base_uri": "https://localhost:8080/"
        },
        "id": "KV0tXhr_pswe",
        "outputId": "8afc1e3f-3a81-47b6-cd0b-e2221181d5ea"
      },
      "execution_count": null,
      "outputs": [
        {
          "output_type": "stream",
          "name": "stdout",
          "text": [
            "\n",
            " After Max Pooling with stride=1:\n",
            " [[2. 1.]\n",
            " [2. 2.]]\n"
          ]
        }
      ]
    },
    {
      "cell_type": "code",
      "source": [
        "flattened = pooled.flatten()\n",
        "print(flattened)\n"
      ],
      "metadata": {
        "colab": {
          "base_uri": "https://localhost:8080/"
        },
        "id": "LPpHX2mLtaHZ",
        "outputId": "0976d79a-0283-4ca2-cbd0-269ddb5fe203"
      },
      "execution_count": null,
      "outputs": [
        {
          "output_type": "stream",
          "name": "stdout",
          "text": [
            "[2. 1. 2. 2.]\n"
          ]
        }
      ]
    }
  ]
}