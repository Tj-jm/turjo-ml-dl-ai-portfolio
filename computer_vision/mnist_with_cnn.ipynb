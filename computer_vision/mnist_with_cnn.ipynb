{
  "nbformat": 4,
  "nbformat_minor": 0,
  "metadata": {
    "colab": {
      "provenance": []
    },
    "kernelspec": {
      "name": "python3",
      "display_name": "Python 3"
    },
    "language_info": {
      "name": "python"
    }
  },
  "cells": [
    {
      "cell_type": "code",
      "execution_count": null,
      "metadata": {
        "colab": {
          "base_uri": "https://localhost:8080/"
        },
        "id": "Dmu6AXonL4JU",
        "outputId": "ed13f7f0-43ce-4052-da0b-93a20c7e93d7"
      },
      "outputs": [
        {
          "output_type": "stream",
          "name": "stdout",
          "text": [
            "Downloading data from https://storage.googleapis.com/tensorflow/tf-keras-datasets/mnist.npz\n",
            "\u001b[1m11490434/11490434\u001b[0m \u001b[32m━━━━━━━━━━━━━━━━━━━━\u001b[0m\u001b[37m\u001b[0m \u001b[1m0s\u001b[0m 0us/step\n"
          ]
        }
      ],
      "source": [
        "import matplotlib.pyplot as plt\n",
        "from keras.datasets import mnist\n",
        "\n",
        "(x_train, y_train), (x_test, y_test) = mnist.load_data()"
      ]
    },
    {
      "cell_type": "code",
      "source": [
        "some_images = x_train[:12]\n",
        "some_labels = y_train[:12]\n",
        "\n",
        "\n",
        "plt.figure(figsize=(10,4))\n",
        "for i in range(12):\n",
        "  plt.subplot(2,6,i+1)\n",
        "  plt.imshow(some_images[i],cmap='grey')\n",
        "  plt.axis('off')\n",
        "  plt.title(f\"Label: {some_labels[i]}\")"
      ],
      "metadata": {
        "colab": {
          "base_uri": "https://localhost:8080/",
          "height": 338
        },
        "id": "k4v5FujZMbSc",
        "outputId": "f4605a86-3f0a-4d71-b95d-e1baa5b0d00c"
      },
      "execution_count": null,
      "outputs": [
        {
          "output_type": "display_data",
          "data": {
            "text/plain": [
              "<Figure size 1000x400 with 12 Axes>"
            ],
            "image/png": "[encoded data removed]"
          },
          "metadata": {}
        }
      ]
    },
    {
      "cell_type": "markdown",
      "source": [
        "| Image Type | Channels | Shape Example |\n",
        "| ---------- | -------- | ------------- |\n",
        "| Grayscale  | 1        | (28, 28, 1)   |\n",
        "| RGB        | 3        | (28, 28, 3)   |\n"
      ],
      "metadata": {
        "id": "DFiLsnKtQAK0"
      }
    },
    {
      "cell_type": "code",
      "source": [
        "x_train = x_train.astype('float32')/255\n",
        "x_test = x_test.astype('float32')/255\n",
        "\n",
        "x_train = x_train.reshape(-1,28,28,1)\n",
        "x_test = x_test.reshape(-1,28,28,1)\n",
        "\n",
        "print(\"Train shape:\", x_train.shape)\n",
        "print(\"Test shape:\", x_test.shape)"
      ],
      "metadata": {
        "colab": {
          "base_uri": "https://localhost:8080/"
        },
        "id": "gMT9y7caQKTS",
        "outputId": "b9caff56-7e07-4518-c1d2-90e882c9d659"
      },
      "execution_count": null,
      "outputs": [
        {
          "output_type": "stream",
          "name": "stdout",
          "text": [
            "Train shape: (60000, 28, 28, 1)\n",
            "Test shape: (10000, 28, 28, 1)\n"
          ]
        }
      ]
    },
    {
      "cell_type": "code",
      "source": [
        "from keras.utils import to_categorical\n",
        "print(\"y_train shape before:\", y_train.shape)\n",
        "y_train = to_categorical(y_train,10)\n",
        "y_test = to_categorical(y_test,num_classes=10)\n",
        "print(\"y_train shape after:\", y_train.shape)\n",
        "print(\"y_test shape after:\", y_test.shape)\n",
        "print(y_train,y_test)"
      ],
      "metadata": {
        "colab": {
          "base_uri": "https://localhost:8080/"
        },
        "id": "R2SdvdhpQXCq",
        "outputId": "e5fb4a92-b738-4835-a40e-3cee56ba554a"
      },
      "execution_count": null,
      "outputs": [
        {
          "output_type": "stream",
          "name": "stdout",
          "text": [
            "y_train shape before: (60000,)\n",
            "y_train shape after: (60000, 10)\n",
            "y_test shape after: (10000, 10)\n",
            "[[0. 0. 0. ... 0. 0. 0.]\n",
            " [1. 0. 0. ... 0. 0. 0.]\n",
            " [0. 0. 0. ... 0. 0. 0.]\n",
            " ...\n",
            " [0. 0. 0. ... 0. 0. 0.]\n",
            " [0. 0. 0. ... 0. 0. 0.]\n",
            " [0. 0. 0. ... 0. 1. 0.]] [[0. 0. 0. ... 1. 0. 0.]\n",
            " [0. 0. 1. ... 0. 0. 0.]\n",
            " [0. 1. 0. ... 0. 0. 0.]\n",
            " ...\n",
            " [0. 0. 0. ... 0. 0. 0.]\n",
            " [0. 0. 0. ... 0. 0. 0.]\n",
            " [0. 0. 0. ... 0. 0. 0.]]\n"
          ]
        }
      ]
    },
    {
      "cell_type": "markdown",
      "source": [
        "# CNN Layers and Their Parameters\n",
        "\n",
        "This note explains **Conv2D, MaxPooling2D, Flatten, and Dense** layers used in CNNs, with clear parameter meanings and reasoning.\n",
        "\n",
        "---\n",
        "\n",
        "## Conv2D\n",
        "\n",
        "```python\n",
        "from tensorflow.keras.layers import Conv2D\n",
        "\n",
        "Conv2D(filters, kernel_size, activation=None, input_shape=None, padding='valid', strides=(1,1))\n",
        "```\n",
        "\n",
        "- **filters**: Number of output channels (feature maps), e.g., 32 or 64. More filters capture more patterns.\n",
        "- **kernel_size**: Size of the filter, e.g., (3,3). Controls the receptive field.\n",
        "- **activation**: Activation function, e.g., 'relu'.\n",
        "- **input_shape**: Shape of the input, only needed in the first layer. For MNIST: (28,28,1).\n",
        "- **padding**: 'valid' (no padding, reduces dimensions) or 'same' (pads to keep dimensions).\n",
        "- **strides**: Step size of the filter. Default is (1,1).\n",
        "\n",
        "**Purpose:** Extract spatial features from images.\n",
        "\n",
        "---\n",
        "\n",
        "## MaxPooling2D\n",
        "\n",
        "```python\n",
        "from tensorflow.keras.layers import MaxPooling2D\n",
        "\n",
        "MaxPooling2D(pool_size=(2,2), strides=None, padding='valid')\n",
        "```\n",
        "\n",
        "- **pool_size**: Size of the pooling window, e.g., (2,2).\n",
        "- **strides**: Step size, defaults to pool_size.\n",
        "- **padding**: 'valid' or 'same'.\n",
        "\n",
        "**Purpose:** Downsamples feature maps, reducing computation and adding translation invariance.\n",
        "\n",
        "---\n",
        "\n",
        "## Flatten\n",
        "\n",
        "```python\n",
        "from tensorflow.keras.layers import Flatten\n",
        "\n",
        "Flatten()\n",
        "```\n",
        "\n",
        "**Purpose:** Flattens multi-dimensional feature maps into a 1D vector for Dense layers.\n",
        "\n",
        "---\n",
        "\n",
        "## Dense\n",
        "\n",
        "```python\n",
        "from tensorflow.keras.layers import Dense\n",
        "\n",
        "Dense(units, activation=None)\n",
        "```\n",
        "\n",
        "- **units**: Number of neurons, e.g., 128 or 10.\n",
        "- **activation**: Activation function, e.g., 'relu' or 'softmax'.\n",
        "\n",
        "**Purpose:** Fully connected layer for learning high-level patterns and producing output probabilities.\n",
        "\n",
        "---\n",
        "\n",
        "## Why 32, 64, 128?\n",
        "\n",
        "- **32, 64 filters in Conv2D**: Allow capturing increasingly complex patterns as depth increases.\n",
        "- **128 units in Dense**: Provides enough capacity to learn meaningful combinations of features.\n",
        "- **10 units in final Dense with softmax**: For 10-class digit classification in MNIST.\n",
        "\n",
        "---\n",
        "\n",
        "## Example MNIST CNN\n",
        "\n",
        "```python\n",
        "from tensorflow.keras.models import Sequential\n",
        "from tensorflow.keras.layers import Conv2D, MaxPooling2D, Flatten, Dense\n",
        "\n",
        "model = Sequential([\n",
        "    Conv2D(32, (3,3), activation='relu', input_shape=(28,28,1)),\n",
        "    MaxPooling2D((2,2)),\n",
        "    Conv2D(64, (3,3), activation='relu'),\n",
        "    MaxPooling2D((2,2)),\n",
        "    Flatten(),\n",
        "    Dense(128, activation='relu'),\n",
        "    Dense(10, activation='softmax')\n",
        "])\n",
        "```\n",
        "\n",
        "This architecture:\n",
        "- Learns feature hierarchies (edges, shapes, patterns).\n",
        "- Reduces spatial dimensions while increasing feature depth.\n",
        "- Outputs class probabilities for digit classification.\n",
        "\n",
        "---\n",
        "\n",
        "## Summary Table\n",
        "\n",
        "| Layer         | Key Parameters            | Purpose                      |\n",
        "|---------------|---------------------------|------------------------------|\n",
        "| Conv2D        | filters, kernel_size     | Extract spatial features     |\n",
        "| MaxPooling2D  | pool_size                | Downsample feature maps      |\n",
        "| Flatten       | -                        | Reshape for Dense layers     |\n",
        "| Dense         | units, activation        | Learn high-level patterns    |\n",
        "\n",
        "---\n",
        "\n",
        "This single file provides the practical, structured reference you need while working with CNNs in your MNIST and general image classification projects.\n"
      ],
      "metadata": {
        "id": "xbdWPHdWarvv"
      }
    },
    {
      "cell_type": "code",
      "source": [
        "from keras.layers import Dense,Conv2D,MaxPool2D,Flatten, BatchNormalization,Dropout\n",
        "from keras.models import Sequential"
      ],
      "metadata": {
        "id": "4DFKBPzZgnyG"
      },
      "execution_count": null,
      "outputs": []
    },
    {
      "cell_type": "code",
      "source": [
        "model = Sequential([\n",
        "    Conv2D(32,(3,3),activation='relu',input_shape=(28,28,1)),\n",
        "    MaxPool2D(pool_size=(2,2)),\n",
        "    Conv2D(64,(3,3),activation='relu'),\n",
        "    MaxPool2D(pool_size=(2,2)),\n",
        "    Flatten(),\n",
        "    Dense(512,activation='relu'),\n",
        "    BatchNormalization(),\n",
        "    Dropout(0.5),\n",
        "    Dense(10,activation='softmax')\n",
        "]\n",
        "\n",
        "\n",
        ")"
      ],
      "metadata": {
        "colab": {
          "base_uri": "https://localhost:8080/"
        },
        "id": "z-eoHoU6oeLL",
        "outputId": "3b5ebfee-6b53-4a84-ef22-fb6b408c44c6"
      },
      "execution_count": null,
      "outputs": [
        {
          "output_type": "stream",
          "name": "stderr",
          "text": [
            "/usr/local/lib/python3.11/dist-packages/keras/src/layers/convolutional/base_conv.py:107: UserWarning: Do not pass an `input_shape`/`input_dim` argument to a layer. When using Sequential models, prefer using an `Input(shape)` object as the first layer in the model instead.\n",
            "  super().__init__(activity_regularizer=activity_regularizer, **kwargs)\n"
          ]
        }
      ]
    },
    {
      "cell_type": "code",
      "source": [
        "model.summary()"
      ],
      "metadata": {
        "colab": {
          "base_uri": "https://localhost:8080/",
          "height": 442
        },
        "id": "TtbWHKT8qMHg",
        "outputId": "93d0d69e-a02d-47f1-d714-d1c37ce5af2e"
      },
      "execution_count": null,
      "outputs": [
        {
          "output_type": "display_data",
          "data": {
            "text/plain": [
              "\u001b[1mModel: \"sequential\"\u001b[0m\n"
            ],
            "text/html": [
              "<pre style=\"white-space:pre;overflow-x:auto;line-height:normal;font-family:Menlo,'DejaVu Sans Mono',consolas,'Courier New',monospace\"><span style=\"font-weight: bold\">Model: \"sequential\"</span>\n",
              "</pre>\n"
            ]
          },
          "metadata": {}
        },
        {
          "output_type": "display_data",
          "data": {
            "text/plain": [
              "┏━━━━━━━━━━━━━━━━━━━━━━━━━━━━━━━━━┳━━━━━━━━━━━━━━━━━━━━━━━━┳━━━━━━━━━━━━━━━┓\n",
              "┃\u001b[1m \u001b[0m\u001b[1mLayer (type)                   \u001b[0m\u001b[1m \u001b[0m┃\u001b[1m \u001b[0m\u001b[1mOutput Shape          \u001b[0m\u001b[1m \u001b[0m┃\u001b[1m \u001b[0m\u001b[1m      Param #\u001b[0m\u001b[1m \u001b[0m┃\n",
              "┡━━━━━━━━━━━━━━━━━━━━━━━━━━━━━━━━━╇━━━━━━━━━━━━━━━━━━━━━━━━╇━━━━━━━━━━━━━━━┩\n",
              "│ conv2d (\u001b[38;5;33mConv2D\u001b[0m)                 │ (\u001b[38;5;45mNone\u001b[0m, \u001b[38;5;34m26\u001b[0m, \u001b[38;5;34m26\u001b[0m, \u001b[38;5;34m32\u001b[0m)     │           \u001b[38;5;34m320\u001b[0m │\n",
              "├─────────────────────────────────┼────────────────────────┼───────────────┤\n",
              "│ max_pooling2d (\u001b[38;5;33mMaxPooling2D\u001b[0m)    │ (\u001b[38;5;45mNone\u001b[0m, \u001b[38;5;34m13\u001b[0m, \u001b[38;5;34m13\u001b[0m, \u001b[38;5;34m32\u001b[0m)     │             \u001b[38;5;34m0\u001b[0m │\n",
              "├─────────────────────────────────┼────────────────────────┼───────────────┤\n",
              "│ conv2d_1 (\u001b[38;5;33mConv2D\u001b[0m)               │ (\u001b[38;5;45mNone\u001b[0m, \u001b[38;5;34m11\u001b[0m, \u001b[38;5;34m11\u001b[0m, \u001b[38;5;34m64\u001b[0m)     │        \u001b[38;5;34m18,496\u001b[0m │\n",
              "├─────────────────────────────────┼────────────────────────┼───────────────┤\n",
              "│ max_pooling2d_1 (\u001b[38;5;33mMaxPooling2D\u001b[0m)  │ (\u001b[38;5;45mNone\u001b[0m, \u001b[38;5;34m5\u001b[0m, \u001b[38;5;34m5\u001b[0m, \u001b[38;5;34m64\u001b[0m)       │             \u001b[38;5;34m0\u001b[0m │\n",
              "├─────────────────────────────────┼────────────────────────┼───────────────┤\n",
              "│ flatten (\u001b[38;5;33mFlatten\u001b[0m)               │ (\u001b[38;5;45mNone\u001b[0m, \u001b[38;5;34m1600\u001b[0m)           │             \u001b[38;5;34m0\u001b[0m │\n",
              "├─────────────────────────────────┼────────────────────────┼───────────────┤\n",
              "│ dense (\u001b[38;5;33mDense\u001b[0m)                   │ (\u001b[38;5;45mNone\u001b[0m, \u001b[38;5;34m512\u001b[0m)            │       \u001b[38;5;34m819,712\u001b[0m │\n",
              "├─────────────────────────────────┼────────────────────────┼───────────────┤\n",
              "│ batch_normalization             │ (\u001b[38;5;45mNone\u001b[0m, \u001b[38;5;34m512\u001b[0m)            │         \u001b[38;5;34m2,048\u001b[0m │\n",
              "│ (\u001b[38;5;33mBatchNormalization\u001b[0m)            │                        │               │\n",
              "├─────────────────────────────────┼────────────────────────┼───────────────┤\n",
              "│ dropout (\u001b[38;5;33mDropout\u001b[0m)               │ (\u001b[38;5;45mNone\u001b[0m, \u001b[38;5;34m512\u001b[0m)            │             \u001b[38;5;34m0\u001b[0m │\n",
              "├─────────────────────────────────┼────────────────────────┼───────────────┤\n",
              "│ dense_1 (\u001b[38;5;33mDense\u001b[0m)                 │ (\u001b[38;5;45mNone\u001b[0m, \u001b[38;5;34m10\u001b[0m)             │         \u001b[38;5;34m5,130\u001b[0m │\n",
              "└─────────────────────────────────┴────────────────────────┴───────────────┘\n"
            ],
            "text/html": [
              "<pre style=\"white-space:pre;overflow-x:auto;line-height:normal;font-family:Menlo,'DejaVu Sans Mono',consolas,'Courier New',monospace\">┏━━━━━━━━━━━━━━━━━━━━━━━━━━━━━━━━━┳━━━━━━━━━━━━━━━━━━━━━━━━┳━━━━━━━━━━━━━━━┓\n",
              "┃<span style=\"font-weight: bold\"> Layer (type)                    </span>┃<span style=\"font-weight: bold\"> Output Shape           </span>┃<span style=\"font-weight: bold\">       Param # </span>┃\n",
              "┡━━━━━━━━━━━━━━━━━━━━━━━━━━━━━━━━━╇━━━━━━━━━━━━━━━━━━━━━━━━╇━━━━━━━━━━━━━━━┩\n",
              "│ conv2d (<span style=\"color: #0087ff; text-decoration-color: #0087ff\">Conv2D</span>)                 │ (<span style=\"color: #00d7ff; text-decoration-color: #00d7ff\">None</span>, <span style=\"color: #00af00; text-decoration-color: #00af00\">26</span>, <span style=\"color: #00af00; text-decoration-color: #00af00\">26</span>, <span style=\"color: #00af00; text-decoration-color: #00af00\">32</span>)     │           <span style=\"color: #00af00; text-decoration-color: #00af00\">320</span> │\n",
              "├─────────────────────────────────┼────────────────────────┼───────────────┤\n",
              "│ max_pooling2d (<span style=\"color: #0087ff; text-decoration-color: #0087ff\">MaxPooling2D</span>)    │ (<span style=\"color: #00d7ff; text-decoration-color: #00d7ff\">None</span>, <span style=\"color: #00af00; text-decoration-color: #00af00\">13</span>, <span style=\"color: #00af00; text-decoration-color: #00af00\">13</span>, <span style=\"color: #00af00; text-decoration-color: #00af00\">32</span>)     │             <span style=\"color: #00af00; text-decoration-color: #00af00\">0</span> │\n",
              "├─────────────────────────────────┼────────────────────────┼───────────────┤\n",
              "│ conv2d_1 (<span style=\"color: #0087ff; text-decoration-color: #0087ff\">Conv2D</span>)               │ (<span style=\"color: #00d7ff; text-decoration-color: #00d7ff\">None</span>, <span style=\"color: #00af00; text-decoration-color: #00af00\">11</span>, <span style=\"color: #00af00; text-decoration-color: #00af00\">11</span>, <span style=\"color: #00af00; text-decoration-color: #00af00\">64</span>)     │        <span style=\"color: #00af00; text-decoration-color: #00af00\">18,496</span> │\n",
              "├─────────────────────────────────┼────────────────────────┼───────────────┤\n",
              "│ max_pooling2d_1 (<span style=\"color: #0087ff; text-decoration-color: #0087ff\">MaxPooling2D</span>)  │ (<span style=\"color: #00d7ff; text-decoration-color: #00d7ff\">None</span>, <span style=\"color: #00af00; text-decoration-color: #00af00\">5</span>, <span style=\"color: #00af00; text-decoration-color: #00af00\">5</span>, <span style=\"color: #00af00; text-decoration-color: #00af00\">64</span>)       │             <span style=\"color: #00af00; text-decoration-color: #00af00\">0</span> │\n",
              "├─────────────────────────────────┼────────────────────────┼───────────────┤\n",
              "│ flatten (<span style=\"color: #0087ff; text-decoration-color: #0087ff\">Flatten</span>)               │ (<span style=\"color: #00d7ff; text-decoration-color: #00d7ff\">None</span>, <span style=\"color: #00af00; text-decoration-color: #00af00\">1600</span>)           │             <span style=\"color: #00af00; text-decoration-color: #00af00\">0</span> │\n",
              "├─────────────────────────────────┼────────────────────────┼───────────────┤\n",
              "│ dense (<span style=\"color: #0087ff; text-decoration-color: #0087ff\">Dense</span>)                   │ (<span style=\"color: #00d7ff; text-decoration-color: #00d7ff\">None</span>, <span style=\"color: #00af00; text-decoration-color: #00af00\">512</span>)            │       <span style=\"color: #00af00; text-decoration-color: #00af00\">819,712</span> │\n",
              "├─────────────────────────────────┼────────────────────────┼───────────────┤\n",
              "│ batch_normalization             │ (<span style=\"color: #00d7ff; text-decoration-color: #00d7ff\">None</span>, <span style=\"color: #00af00; text-decoration-color: #00af00\">512</span>)            │         <span style=\"color: #00af00; text-decoration-color: #00af00\">2,048</span> │\n",
              "│ (<span style=\"color: #0087ff; text-decoration-color: #0087ff\">BatchNormalization</span>)            │                        │               │\n",
              "├─────────────────────────────────┼────────────────────────┼───────────────┤\n",
              "│ dropout (<span style=\"color: #0087ff; text-decoration-color: #0087ff\">Dropout</span>)               │ (<span style=\"color: #00d7ff; text-decoration-color: #00d7ff\">None</span>, <span style=\"color: #00af00; text-decoration-color: #00af00\">512</span>)            │             <span style=\"color: #00af00; text-decoration-color: #00af00\">0</span> │\n",
              "├─────────────────────────────────┼────────────────────────┼───────────────┤\n",
              "│ dense_1 (<span style=\"color: #0087ff; text-decoration-color: #0087ff\">Dense</span>)                 │ (<span style=\"color: #00d7ff; text-decoration-color: #00d7ff\">None</span>, <span style=\"color: #00af00; text-decoration-color: #00af00\">10</span>)             │         <span style=\"color: #00af00; text-decoration-color: #00af00\">5,130</span> │\n",
              "└─────────────────────────────────┴────────────────────────┴───────────────┘\n",
              "</pre>\n"
            ]
          },
          "metadata": {}
        },
        {
          "output_type": "display_data",
          "data": {
            "text/plain": [
              "\u001b[1m Total params: \u001b[0m\u001b[38;5;34m845,706\u001b[0m (3.23 MB)\n"
            ],
            "text/html": [
              "<pre style=\"white-space:pre;overflow-x:auto;line-height:normal;font-family:Menlo,'DejaVu Sans Mono',consolas,'Courier New',monospace\"><span style=\"font-weight: bold\"> Total params: </span><span style=\"color: #00af00; text-decoration-color: #00af00\">845,706</span> (3.23 MB)\n",
              "</pre>\n"
            ]
          },
          "metadata": {}
        },
        {
          "output_type": "display_data",
          "data": {
            "text/plain": [
              "\u001b[1m Trainable params: \u001b[0m\u001b[38;5;34m844,682\u001b[0m (3.22 MB)\n"
            ],
            "text/html": [
              "<pre style=\"white-space:pre;overflow-x:auto;line-height:normal;font-family:Menlo,'DejaVu Sans Mono',consolas,'Courier New',monospace\"><span style=\"font-weight: bold\"> Trainable params: </span><span style=\"color: #00af00; text-decoration-color: #00af00\">844,682</span> (3.22 MB)\n",
              "</pre>\n"
            ]
          },
          "metadata": {}
        },
        {
          "output_type": "display_data",
          "data": {
            "text/plain": [
              "\u001b[1m Non-trainable params: \u001b[0m\u001b[38;5;34m1,024\u001b[0m (4.00 KB)\n"
            ],
            "text/html": [
              "<pre style=\"white-space:pre;overflow-x:auto;line-height:normal;font-family:Menlo,'DejaVu Sans Mono',consolas,'Courier New',monospace\"><span style=\"font-weight: bold\"> Non-trainable params: </span><span style=\"color: #00af00; text-decoration-color: #00af00\">1,024</span> (4.00 KB)\n",
              "</pre>\n"
            ]
          },
          "metadata": {}
        }
      ]
    },
    {
      "cell_type": "markdown",
      "source": [
        "| Term                     | Meaning                                                          |\n",
        "| ------------------------ | ---------------------------------------------------------------- |\n",
        "| **Total params**         | All weights, biases, statistics in the model                     |\n",
        "| **Trainable params**     | Weights and biases updated during training                       |\n",
        "| **Non-trainable params** | Typically moving averages in BatchNorm, not updated by gradients |\n"
      ],
      "metadata": {
        "id": "1cODgiU2xTZX"
      }
    },
    {
      "cell_type": "code",
      "source": [
        "history = model.compile(loss='categorical_crossentropy',optimizer=\"adam\",metrics=['accuracy'])\n",
        "model.fit(x_train,y_train,batch_size=128,epochs=2,validation_data=(x_test,y_test),verbose=1)"
      ],
      "metadata": {
        "colab": {
          "base_uri": "https://localhost:8080/"
        },
        "id": "gae5DKGxxjPv",
        "outputId": "35c4c098-5d14-41da-e43b-789b00da2c49"
      },
      "execution_count": null,
      "outputs": [
        {
          "output_type": "stream",
          "name": "stdout",
          "text": [
            "Epoch 1/2\n",
            "\u001b[1m469/469\u001b[0m \u001b[32m━━━━━━━━━━━━━━━━━━━━\u001b[0m\u001b[37m\u001b[0m \u001b[1m39s\u001b[0m 80ms/step - accuracy: 0.9259 - loss: 0.2405 - val_accuracy: 0.9824 - val_loss: 0.0639\n",
            "Epoch 2/2\n",
            "\u001b[1m469/469\u001b[0m \u001b[32m━━━━━━━━━━━━━━━━━━━━\u001b[0m\u001b[37m\u001b[0m \u001b[1m39s\u001b[0m 84ms/step - accuracy: 0.9853 - loss: 0.0465 - val_accuracy: 0.9859 - val_loss: 0.0436\n"
          ]
        },
        {
          "output_type": "execute_result",
          "data": {
            "text/plain": [
              "<keras.src.callbacks.history.History at 0x7dd965746c10>"
            ]
          },
          "metadata": {},
          "execution_count": 8
        }
      ]
    },
    {
      "cell_type": "markdown",
      "source": [
        "| Term                      | Meaning                                                        |\n",
        "| ------------------------- | -------------------------------------------------------------- |\n",
        "| **Validation Data**       | Portion of data used to monitor performance during training    |\n",
        "| **validation\\_split=0.1** | Use 10% of training data for validation automatically          |\n",
        "| **Purpose**               | Check generalization, detect overfitting, tune hyperparameters |\n"
      ],
      "metadata": {
        "id": "6oWUR_vWxhyl"
      }
    },
    {
      "cell_type": "code",
      "source": [
        "score = model.evaluate(x_test,y_test)\n",
        "print(score)"
      ],
      "metadata": {
        "colab": {
          "base_uri": "https://localhost:8080/"
        },
        "id": "_2Np9PaET_d9",
        "outputId": "05872738-2184-460f-ca6e-2968dc5a284c"
      },
      "execution_count": null,
      "outputs": [
        {
          "output_type": "stream",
          "name": "stdout",
          "text": [
            "\u001b[1m313/313\u001b[0m \u001b[32m━━━━━━━━━━━━━━━━━━━━\u001b[0m\u001b[37m\u001b[0m \u001b[1m2s\u001b[0m 7ms/step - accuracy: 0.9831 - loss: 0.0536\n",
            "[0.0436282679438591, 0.9858999848365784]\n"
          ]
        }
      ]
    },
    {
      "cell_type": "markdown",
      "source": [
        "| Item                                | Meaning                                              |\n",
        "| ----------------------------------- | ---------------------------------------------------- |\n",
        "| `loss`                              | Cross-entropy loss on the test set                   |\n",
        "| `accuracy`                          | Classification accuracy on the test set              |\n",
        "| `313/313`                           | Batches processed during evaluation                  |\n",
        "| `98.31%` (bar) vs `98.59%` (result) | Small difference due to computation reporting timing |\n"
      ],
      "metadata": {
        "id": "udy-G5GoUa6G"
      }
    },
    {
      "cell_type": "code",
      "source": [
        "print('Test Accuracy: %.2f'%score[1])"
      ],
      "metadata": {
        "colab": {
          "base_uri": "https://localhost:8080/"
        },
        "id": "lO1QOW9NUkP1",
        "outputId": "4c1335a6-6b0a-4404-a4ff-fb653123a2a4"
      },
      "execution_count": null,
      "outputs": [
        {
          "output_type": "stream",
          "name": "stdout",
          "text": [
            "Test Accuracy: 0.99\n"
          ]
        }
      ]
    },
    {
      "cell_type": "markdown",
      "source": [
        "# Data Augmentation in Deep Learning\n",
        "\n",
        "---\n",
        "\n",
        "## What is Data Augmentation?\n",
        "\n",
        "Data augmentation is the process of generating **new training samples by modifying existing data** while preserving labels.\n",
        "\n",
        "**Example:** Rotating, flipping, shifting, or zooming images to create new variations.\n",
        "\n",
        "---\n",
        "\n",
        "## Why Use Data Augmentation?\n",
        "\n",
        "- **Prevent Overfitting:** Adds variability, reducing memorization of training data.\n",
        "- **Improve Generalization:** Prepares the model for real-world variations.\n",
        "- **Expand Small Datasets:** Increases effective dataset size without extra collection.\n",
        "\n",
        "---\n",
        "\n",
        "## How is it Applied?\n",
        "\n",
        "Using utilities like **ImageDataGenerator** in Keras:\n",
        "\n",
        "```python\n",
        "from tensorflow.keras.preprocessing.image import ImageDataGenerator\n",
        "\n",
        "datagen = ImageDataGenerator(\n",
        "    rescale=1./255,\n",
        "    rotation_range=10,\n",
        "    width_shift_range=0.1,\n",
        "    height_shift_range=0.1,\n",
        "    zoom_range=0.1,\n",
        "    horizontal_flip=True\n",
        ")\n",
        "```\n",
        "\n",
        "---\n",
        "\n",
        "## Explanation of Parameters\n",
        "\n",
        "- `rotation_range=10`: Randomly rotates images within ±10 degrees.\n",
        "- `width_shift_range=0.1`: Shifts images horizontally by 10%.\n",
        "- `height_shift_range=0.1`: Shifts images vertically by 10%.\n",
        "- `zoom_range=0.1`: Zooms images in/out by 10%.\n",
        "- `horizontal_flip=True`: Randomly flips images horizontally.\n",
        "- `rescale=1./255`: Normalizes pixel values to [0, 1].\n",
        "\n",
        "---\n",
        "\n",
        "## Using During Training\n",
        "\n",
        "```python\n",
        "train_generator = datagen.flow(x_train, y_train, batch_size=64)\n",
        "model.fit(train_generator, epochs=10, ...)\n",
        "```\n",
        "\n",
        "This allows the model to receive **dynamically augmented batches**, improving learning robustness.\n",
        "\n",
        "---\n",
        "\n",
        "## Common Transformations\n",
        "\n",
        "- Rotation\n",
        "- Width/Height Shift\n",
        "- Zoom\n",
        "- Shear\n",
        "- Horizontal/Vertical Flip\n",
        "- Brightness/Contrast Adjustment\n",
        "- Noise Injection\n",
        "\n",
        "---\n",
        "\n",
        "## Benefits of Data Augmentation\n",
        "\n",
        "- Improves model robustness and validation performance.\n",
        "- Reduces overfitting risks.\n",
        "- Helps with real-world deployment by preparing the model for varied input conditions.\n",
        "\n",
        "---\n",
        "\n",
        "## Summary Table\n",
        "\n",
        "| Aspect | Description |\n",
        "|--------|-------------|\n",
        "| **Purpose** | Create variations for better learning |\n",
        "| **When Used** | During training only |\n",
        "| **Tools** | ImageDataGenerator, TensorFlow/PyTorch transforms |\n",
        "| **Impact** | Improved generalization, reduced overfitting |\n",
        "\n",
        "---\n",
        "\n",
        "Data augmentation is a **standard, practical tool for enhancing deep learning pipelines, especially in image classification workflows.**\n"
      ],
      "metadata": {
        "id": "WxiaPR_WcZil"
      }
    },
    {
      "cell_type": "markdown",
      "source": [
        "#Key Parameters of fit_generator\n",
        "\n",
        "| Parameter                | Description                                                                      |\n",
        "| ------------------------ | -------------------------------------------------------------------------------- |\n",
        "| **generator**            | The Python generator/iterator yielding `(x_batch, y_batch)`                      |\n",
        "| **steps\\_per\\_epoch**    | Number of batches to draw from the generator before declaring one epoch finished |\n",
        "| **epochs**               | Number of epochs to train                                                        |\n",
        "| **validation\\_data**     | Generator or tuple `(x_val, y_val)` for validation                               |\n",
        "| **validation\\_steps**    | Number of batches to draw from `validation_data` per epoch                       |\n",
        "| **callbacks**            | List of Keras callbacks (e.g., EarlyStopping, ModelCheckpoint)                   |\n",
        "| **class\\_weight**        | Optional dictionary mapping class indices to weights                             |\n",
        "| **max\\_queue\\_size**     | Maximum size for the generator queue                                             |\n",
        "| **workers**              | Number of worker threads for data loading                                        |\n",
        "| **use\\_multiprocessing** | Whether to use multiprocessing for data loading                                  |\n",
        "| **shuffle**              | Whether to shuffle the order of batches at each epoch                            |\n"
      ],
      "metadata": {
        "id": "en4U8Lc1h1zw"
      }
    },
    {
      "cell_type": "code",
      "source": [
        "from tensorflow.keras.preprocessing.image import ImageDataGenerator\n",
        "\n",
        "train_generator = ImageDataGenerator(rotation_range=7,width_shift_range=0.05, shear_range=0.05,height_shift_range=0.07,zoom_range=0.05)\n",
        "test_generator = ImageDataGenerator()"
      ],
      "metadata": {
        "id": "ODHuIueXcX4c"
      },
      "execution_count": null,
      "outputs": []
    },
    {
      "cell_type": "code",
      "source": [
        "train_generator = train_generator.flow(x_train,y_train,batch_size=64)\n",
        "test_generator = test_generator.flow(x_test,y_test,batch_size=64)"
      ],
      "metadata": {
        "id": "AWsb81YamjrY"
      },
      "execution_count": null,
      "outputs": []
    },
    {
      "cell_type": "code",
      "source": [
        "import numpy as np\n",
        "images, labels = next(train_generator)\n",
        "plt.figure(figsize=(12, 6))\n",
        "\n",
        "for i in range(12):\n",
        "    plt.subplot(3, 4, i + 1)\n",
        "    img = images[i].reshape(28, 28)\n",
        "    label = np.argmax(labels[i])\n",
        "\n",
        "    plt.imshow(img, cmap='gray')\n",
        "    plt.title(f\"Label: {label}\")\n",
        "    plt.axis('off')\n",
        "\n",
        "plt.tight_layout()\n"
      ],
      "metadata": {
        "colab": {
          "base_uri": "https://localhost:8080/",
          "height": 540
        },
        "id": "Kxp1B61wm_fN",
        "outputId": "bcbb2ebb-aefe-4ba5-f468-20b8d1cd8b10"
      },
      "execution_count": null,
      "outputs": [
        {
          "output_type": "display_data",
          "data": {
            "text/plain": [
              "<Figure size 1200x600 with 12 Axes>"
            ],
            "image/png": "[encoded data removed]"
          },
          "metadata": {}
        }
      ]
    },
    {
      "cell_type": "code",
      "source": [
        "model.fit(train_generator,steps_per_epoch=60000//64, epochs=5,validation_data=test_generator,validation_steps = 10000//64)"
      ],
      "metadata": {
        "colab": {
          "base_uri": "https://localhost:8080/"
        },
        "id": "0uOIf-2cnfCs",
        "outputId": "05911c13-b5ed-4b51-8a54-1794fbe33e5a"
      },
      "execution_count": null,
      "outputs": [
        {
          "output_type": "stream",
          "name": "stdout",
          "text": [
            "Epoch 1/5\n"
          ]
        },
        {
          "output_type": "stream",
          "name": "stderr",
          "text": [
            "/usr/local/lib/python3.11/dist-packages/keras/src/trainers/data_adapters/py_dataset_adapter.py:121: UserWarning: Your `PyDataset` class should call `super().__init__(**kwargs)` in its constructor. `**kwargs` can include `workers`, `use_multiprocessing`, `max_queue_size`. Do not pass these arguments to `fit()`, as they will be ignored.\n",
            "  self._warn_if_super_not_called()\n"
          ]
        },
        {
          "output_type": "stream",
          "name": "stdout",
          "text": [
            "\u001b[1m937/937\u001b[0m \u001b[32m━━━━━━━━━━━━━━━━━━━━\u001b[0m\u001b[37m\u001b[0m \u001b[1m50s\u001b[0m 53ms/step - accuracy: 0.9664 - loss: 0.1043 - val_accuracy: 0.9818 - val_loss: 0.0618\n",
            "Epoch 2/5\n",
            "\u001b[1m  1/937\u001b[0m \u001b[37m━━━━━━━━━━━━━━━━━━━━\u001b[0m \u001b[1m34s\u001b[0m 37ms/step - accuracy: 0.9375 - loss: 0.1369"
          ]
        },
        {
          "output_type": "stream",
          "name": "stderr",
          "text": [
            "/usr/local/lib/python3.11/dist-packages/keras/src/trainers/epoch_iterator.py:107: UserWarning: Your input ran out of data; interrupting training. Make sure that your dataset or generator can generate at least `steps_per_epoch * epochs` batches. You may need to use the `.repeat()` function when building your dataset.\n",
            "  self._interrupted_warning()\n"
          ]
        },
        {
          "output_type": "stream",
          "name": "stdout",
          "text": [
            "\b\b\b\b\b\b\b\b\b\b\b\b\b\b\b\b\b\b\b\b\b\b\b\b\b\b\b\b\b\b\b\b\b\b\b\b\b\b\b\b\b\b\b\b\b\b\b\b\b\b\b\b\b\b\b\b\b\b\b\b\b\b\b\b\b\b\b\b\b\b\b\b\b\b\b\b\r\u001b[1m937/937\u001b[0m \u001b[32m━━━━━━━━━━━━━━━━━━━━\u001b[0m\u001b[37m\u001b[0m \u001b[1m2s\u001b[0m 2ms/step - accuracy: 0.9375 - loss: 0.1369 - val_accuracy: 0.9816 - val_loss: 0.0630\n",
            "Epoch 3/5\n",
            "\u001b[1m937/937\u001b[0m \u001b[32m━━━━━━━━━━━━━━━━━━━━\u001b[0m\u001b[37m\u001b[0m \u001b[1m82s\u001b[0m 87ms/step - accuracy: 0.9793 - loss: 0.0636 - val_accuracy: 0.9905 - val_loss: 0.0306\n",
            "Epoch 4/5\n",
            "\u001b[1m937/937\u001b[0m \u001b[32m━━━━━━━━━━━━━━━━━━━━\u001b[0m\u001b[37m\u001b[0m \u001b[1m2s\u001b[0m 3ms/step - accuracy: 0.9844 - loss: 0.1673 - val_accuracy: 0.9900 - val_loss: 0.0311\n",
            "Epoch 5/5\n",
            "\u001b[1m937/937\u001b[0m \u001b[32m━━━━━━━━━━━━━━━━━━━━\u001b[0m\u001b[37m\u001b[0m \u001b[1m104s\u001b[0m 50ms/step - accuracy: 0.9826 - loss: 0.0542 - val_accuracy: 0.9888 - val_loss: 0.0331\n"
          ]
        },
        {
          "output_type": "execute_result",
          "data": {
            "text/plain": [
              "<keras.src.callbacks.history.History at 0x7dd94c861ad0>"
            ]
          },
          "metadata": {},
          "execution_count": 21
        }
      ]
    },
    {
      "cell_type": "markdown",
      "source": [
        "# CNN Architecture: Rules of Thumb\n",
        "\n",
        "This note provides clear, practical guidelines for structuring CNNs effectively in image classification tasks.\n",
        "\n",
        "---\n",
        "\n",
        "## 1. Convolutional Layers (`Conv2D`)\n",
        "\n",
        "- Use **small filters**, typically `(3,3)`.\n",
        "- Start with **fewer filters** (e.g., 32), increasing in deeper layers (e.g., 64, 128).\n",
        "- Doubling filters as you go deeper helps capture increasingly complex patterns.\n",
        "\n",
        "**Example:**\n",
        "```python\n",
        "Conv2D(32, (3,3))\n",
        "Conv2D(64, (3,3))\n",
        "Conv2D(128, (3,3))\n",
        "```\n",
        "\n",
        "---\n",
        "\n",
        "## 2. MaxPooling Layers (`MaxPooling2D`)\n",
        "\n",
        "- Use after 1-2 Conv layers to reduce spatial dimensions.\n",
        "- Common pooling window: `(2,2)`.\n",
        "- Reduces computation while preserving important features.\n",
        "- Do not overuse to avoid excessive spatial information loss.\n",
        "\n",
        "**Example:**\n",
        "```python\n",
        "MaxPooling2D(pool_size=(2,2))\n",
        "```\n",
        "\n",
        "---\n",
        "\n",
        "## 3. Batch Normalization (`BatchNormalization`)\n",
        "\n",
        "- Use after Conv and Dense layers to stabilize and speed up training.\n",
        "- Helps use higher learning rates and reduces sensitivity to initialization.\n",
        "- Optional but beneficial for deeper models.\n",
        "\n",
        "**Example:**\n",
        "```python\n",
        "BatchNormalization()\n",
        "```\n",
        "\n",
        "---\n",
        "\n",
        "## 4. Dropout (`Dropout`)\n",
        "\n",
        "- Helps prevent overfitting by randomly dropping neurons during training.\n",
        "- Typical rates:\n",
        "  - `0.25` after Conv layers (if needed).\n",
        "  - `0.5` after Dense layers before the output layer.\n",
        "\n",
        "**Example:**\n",
        "```python\n",
        "Dropout(0.5)\n",
        "```\n",
        "\n",
        "---\n",
        "\n",
        "## 5. Flatten Layer (`Flatten`)\n",
        "\n",
        "- Converts 3D feature maps `(height, width, channels)` into a 1D vector for Dense layers.\n",
        "\n",
        "**Example:**\n",
        "```python\n",
        "Flatten()\n",
        "```\n",
        "\n",
        "---\n",
        "\n",
        "## 6. Dense Layers (`Dense`)\n",
        "\n",
        "- Add 1–2 Dense layers after convolutional layers:\n",
        "  - One with `128` or `512` neurons, using `relu`.\n",
        "  - Final Dense layer with `num_classes` neurons and `softmax` for classification.\n",
        "\n",
        "**Example:**\n",
        "```python\n",
        "Dense(128, activation='relu')\n",
        "Dense(10, activation='softmax')\n",
        "```\n",
        "\n",
        "---\n",
        "\n",
        "## 7. Activation Functions\n",
        "\n",
        "- Use `'relu'` for hidden Conv and Dense layers.\n",
        "- Use `'softmax'` for the final output layer in classification tasks.\n",
        "\n",
        "---\n",
        "\n",
        "## Example CNN Structure\n",
        "\n",
        "```python\n",
        "from tensorflow.keras.models import Sequential\n",
        "from tensorflow.keras.layers import Conv2D, MaxPooling2D, Flatten, Dense, Dropout, BatchNormalization\n",
        "\n",
        "model = Sequential([\n",
        "    Conv2D(32, (3,3), activation='relu', input_shape=(28,28,1)),\n",
        "    MaxPooling2D((2,2)),\n",
        "    Conv2D(64, (3,3), activation='relu'),\n",
        "    MaxPooling2D((2,2)),\n",
        "    Flatten(),\n",
        "    Dense(128, activation='relu'),\n",
        "    Dropout(0.5),\n",
        "    Dense(10, activation='softmax')\n",
        "])\n",
        "```\n",
        "\n",
        "---\n",
        "\n",
        "## Recap of Rules\n",
        "\n",
        "- Start with **Conv layers**: 32, 64, 128 filters.\n",
        "- Add **MaxPooling** every 1-2 Conv layers.\n",
        "- Optionally use **BatchNormalization** for stability.\n",
        "- Use **Dropout** to prevent overfitting.\n",
        "- Flatten before Dense layers.\n",
        "- Use **Dense layers** for final classification.\n",
        "- Use `'relu'` for hidden layers, `'softmax'` for output.\n",
        "\n",
        "---\n",
        "\n",
        "Following these structured guidelines will help you design stable, effective CNN models for your MNIST and general image classification projects.\n"
      ],
      "metadata": {
        "id": "TRjx_lY2qLF3"
      }
    },
    {
      "cell_type": "code",
      "source": [
        "model.save(\"mnist_cnn.h5\")\n"
      ],
      "metadata": {
        "colab": {
          "base_uri": "https://localhost:8080/"
        },
        "id": "QWxRouzTsHNy",
        "outputId": "0de7a049-536d-4978-aa12-6ce3f4515af0"
      },
      "execution_count": null,
      "outputs": [
        {
          "output_type": "stream",
          "name": "stderr",
          "text": [
            "WARNING:absl:You are saving your model as an HDF5 file via `model.save()` or `keras.saving.save_model(model)`. This file format is considered legacy. We recommend using instead the native Keras format, e.g. `model.save('my_model.keras')` or `keras.saving.save_model(model, 'my_model.keras')`. \n"
          ]
        }
      ]
    },
    {
      "cell_type": "code",
      "source": [
        "from google.colab import files\n",
        "files.download(\"mnist_cnn.h5\")\n"
      ],
      "metadata": {
        "id": "ju6LlAb9sJTR",
        "outputId": "a76f4e72-0438-4eff-888b-49db873d56c4",
        "colab": {
          "base_uri": "https://localhost:8080/",
          "height": 17
        }
      },
      "execution_count": null,
      "outputs": [
        {
          "output_type": "display_data",
          "data": {
            "text/plain": [
              "<IPython.core.display.Javascript object>"
            ],
            "application/javascript": [
              "\n",
              "    async function download(id, filename, size) {\n",
              "      if (!google.colab.kernel.accessAllowed) {\n",
              "        return;\n",
              "      }\n",
              "      const div = document.createElement('div');\n",
              "      const label = document.createElement('label');\n",
              "      label.textContent = `Downloading \"${filename}\": `;\n",
              "      div.appendChild(label);\n",
              "      const progress = document.createElement('progress');\n",
              "      progress.max = size;\n",
              "      div.appendChild(progress);\n",
              "      document.body.appendChild(div);\n",
              "\n",
              "      const buffers = [];\n",
              "      let downloaded = 0;\n",
              "\n",
              "      const channel = await google.colab.kernel.comms.open(id);\n",
              "      // Send a message to notify the kernel that we're ready.\n",
              "      channel.send({})\n",
              "\n",
              "      for await (const message of channel.messages) {\n",
              "        // Send a message to notify the kernel that we're ready.\n",
              "        channel.send({})\n",
              "        if (message.buffers) {\n",
              "          for (const buffer of message.buffers) {\n",
              "            buffers.push(buffer);\n",
              "            downloaded += buffer.byteLength;\n",
              "            progress.value = downloaded;\n",
              "          }\n",
              "        }\n",
              "      }\n",
              "      const blob = new Blob(buffers, {type: 'application/binary'});\n",
              "      const a = document.createElement('a');\n",
              "      a.href = window.URL.createObjectURL(blob);\n",
              "      a.download = filename;\n",
              "      div.appendChild(a);\n",
              "      a.click();\n",
              "      div.remove();\n",
              "    }\n",
              "  "
            ]
          },
          "metadata": {}
        },
        {
          "output_type": "display_data",
          "data": {
            "text/plain": [
              "<IPython.core.display.Javascript object>"
            ],
            "application/javascript": [
              "download(\"download_21b9facd-b3f8-4f69-b328-18950d44e911\", \"mnist_cnn.h5\", 10187608)"
            ]
          },
          "metadata": {}
        }
      ]
    }
  ]
}