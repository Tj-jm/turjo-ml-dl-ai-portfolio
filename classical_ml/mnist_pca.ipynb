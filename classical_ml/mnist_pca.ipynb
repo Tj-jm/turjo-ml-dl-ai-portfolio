{
  "nbformat": 4,
  "nbformat_minor": 0,
  "metadata": {
    "colab": {
      "provenance": []
    },
    "kernelspec": {
      "name": "python3",
      "display_name": "Python 3"
    },
    "language_info": {
      "name": "python"
    }
  },
  "cells": [
    {
      "cell_type": "markdown",
      "source": [
        "\n",
        "\n",
        "# MNIST Dataset\n",
        "\n",
        "The **MNIST dataset** (Modified National Institute of Standards and Technology) is a benchmark dataset of **handwritten digits** used extensively in machine learning and computer vision tasks.\n",
        "\n",
        "---\n",
        "\n",
        "##  Key Features\n",
        "\n",
        "- **Total Samples**: 70,000 images  \n",
        "  - 60,000 for training  \n",
        "  - 10,000 for testing  \n",
        "- **Image Size**: 28 × 28 pixels (grayscale)  \n",
        "- **Input Shape**: 784-dimensional vectors (28×28 flattened)  \n",
        "- **Labels**: Digits from **0 to 9**\n",
        "\n",
        "---\n",
        "\n",
        "##  Why MNIST?\n",
        "\n",
        "- Ideal for learning **classification**, **dimensionality reduction**, and **image processing**\n",
        "- Small and fast for training simple ML models\n",
        "- Commonly used for benchmarking CNNs, PCA, SVM, etc.\n",
        "\n",
        "---\n",
        "\n",
        "\n"
      ],
      "metadata": {
        "id": "84-0N-TeyvM1"
      }
    },
    {
      "cell_type": "code",
      "execution_count": null,
      "metadata": {
        "id": "81LZnu4Gv7Ab"
      },
      "outputs": [],
      "source": [
        "from sklearn.model_selection import train_test_split\n",
        "from sklearn.datasets import fetch_openml\n",
        "from sklearn.preprocessing import StandardScaler\n",
        "from sklearn.decomposition import PCA\n",
        "\n",
        "mnist_data = fetch_openml('mnist_784', version=1, as_frame=False)\n",
        "\n",
        "features = mnist_data.data\n",
        "targets=mnist_data.target\n",
        "\n",
        "train_img,test_img,train_lbl,test_lbl = train_test_split(features,targets,test_size=0.15,random_state=42)\n",
        "normalizer = StandardScaler()\n",
        "train_img, test_img = normalizer.fit_transform(train_img), normalizer.fit_transform(test_img)"
      ]
    },
    {
      "cell_type": "code",
      "source": [
        "import matplotlib.pyplot as plt\n",
        "import numpy as np\n",
        "\n",
        "# Select unnormalized images for visualization\n",
        "some_images = train_img[:12]  # already split\n",
        "some_labels = train_lbl[:12]\n",
        "\n",
        "# Reshape 784 → 28x28\n",
        "some_images = features[:12].reshape(-1, 28, 28)\n",
        "some_labels = targets[:12]\n",
        "\n",
        "# Plot 12 samples in a grid\n",
        "plt.figure(figsize=(10, 4))\n",
        "for i in range(12):\n",
        "    plt.subplot(2, 6, i + 1)\n",
        "    plt.imshow(some_images[i], cmap='gray')\n",
        "    plt.title(f\"Label: {some_labels[i]}\")\n",
        "    plt.axis(\"off\")\n",
        "\n",
        "plt.suptitle(\"Sample MNIST Digits\", fontsize=16)\n",
        "plt.tight_layout()\n",
        "plt.show()\n"
      ],
      "metadata": {
        "colab": {
          "base_uri": "https://localhost:8080/",
          "height": 408
        },
        "id": "ZZQxVslxyHEN",
        "outputId": "693e2001-af2c-43f9-c81b-a68588666baf"
      },
      "execution_count": null,
      "outputs": [
        {
          "output_type": "display_data",
          "data": {
            "text/plain": [
              "<Figure size 1000x400 with 12 Axes>"
            ],
            "image/png": "[encoded data removed]"
          },
          "metadata": {}
        }
      ]
    },
    {
      "cell_type": "code",
      "source": [
        "estimator =PCA(0.95)\n"
      ],
      "metadata": {
        "id": "B2qHwZx-zJQu"
      },
      "execution_count": null,
      "outputs": []
    },
    {
      "cell_type": "code",
      "source": [
        "train_image_pca = estimator.fit_transform(train_img)\n"
      ],
      "metadata": {
        "id": "OnGMMZpxzRvm"
      },
      "execution_count": null,
      "outputs": []
    },
    {
      "cell_type": "code",
      "source": [
        "print('so the number of features are now down from',train_img.shape[1],'to',train_image_pca.shape[1])"
      ],
      "metadata": {
        "colab": {
          "base_uri": "https://localhost:8080/"
        },
        "id": "ZYcdL2Z6zmKK",
        "outputId": "ca5498db-7e51-45b3-a0b0-321c26f316ec"
      },
      "execution_count": null,
      "outputs": [
        {
          "output_type": "stream",
          "name": "stdout",
          "text": [
            "so the number of features are now down from 784 to 330\n"
          ]
        }
      ]
    },
    {
      "cell_type": "code",
      "source": [
        "print(np.sum(estimator.explained_variance_ratio_))\n",
        "print(\"Number of components selected:\", estimator.n_components_)\n"
      ],
      "metadata": {
        "colab": {
          "base_uri": "https://localhost:8080/"
        },
        "id": "osB_AcLJ0sYo",
        "outputId": "dd11f183-4e01-4b21-fd1d-4e5f0a7ce8d6"
      },
      "execution_count": null,
      "outputs": [
        {
          "output_type": "stream",
          "name": "stdout",
          "text": [
            "0.9501533209153584\n",
            "Number of components selected: 330\n"
          ]
        }
      ]
    }
  ]
}